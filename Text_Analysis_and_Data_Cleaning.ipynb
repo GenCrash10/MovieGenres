{
 "cells": [
  {
   "cell_type": "code",
   "execution_count": 1,
   "metadata": {
    "collapsed": false
   },
   "outputs": [],
   "source": [
    "import pandas as pd\n",
    "import numpy as np\n",
    "import re\n",
    "import pickle\n",
    "from datetime import datetime\n",
    "from sklearn.feature_extraction.text import CountVectorizer\n",
    "from sklearn.decomposition import PCA\n",
    "from sklearn.preprocessing import MultiLabelBinarizer\n",
    "import sklearn.preprocessing as Preprocessing\n",
    "import matplotlib\n",
    "import matplotlib.pyplot as plt\n",
    "import seaborn as sns\n",
    "%matplotlib inline"
   ]
  },
  {
   "cell_type": "code",
   "execution_count": 2,
   "metadata": {
    "collapsed": false
   },
   "outputs": [
    {
     "name": "stdout",
     "output_type": "stream",
     "text": [
      "Dimension of the data:  (5996, 20)\n"
     ]
    }
   ],
   "source": [
    "# read the movie metadata\n",
    "movie_data = pd.read_csv(\"data/top1000_movies_2011_2016_tmdb_imdb.csv\")\n",
    "\n",
    "# eliminate movies without genre_ids\n",
    "movie_data = movie_data[pd.notnull(movie_data[\"genre_ids\"])]\n",
    "print \"Dimension of the data: \", movie_data.shape"
   ]
  },
  {
   "cell_type": "markdown",
   "metadata": {},
   "source": [
    "### Correct the format of the texts\n",
    "Some of the movie title and overviews are misformatted with error or in another language, and will cause error in the following analysis. The misformatted texts are checked and removed first. \n",
    "\n",
    "#### Movie titles"
   ]
  },
  {
   "cell_type": "code",
   "execution_count": 3,
   "metadata": {
    "collapsed": false
   },
   "outputs": [],
   "source": [
    "# extract movie titles\n",
    "corpus_title = movie_data['title'].values"
   ]
  },
  {
   "cell_type": "code",
   "execution_count": 4,
   "metadata": {
    "collapsed": false
   },
   "outputs": [
    {
     "name": "stdout",
     "output_type": "stream",
     "text": [
      "The number of misformatted movie titles:  4\n",
      "[167, 1082, 2856, 2860]\n"
     ]
    }
   ],
   "source": [
    "### obtain the index that causes encoding error\n",
    "bad_title_index = []\n",
    "for i in range(len(corpus_title)):\n",
    "    try:\n",
    "        corpus_title[i].encode('utf-8')\n",
    "    except:\n",
    "        bad_title_index.append(i)\n",
    "\n",
    "# check the bad title index\n",
    "print \"The number of misformatted movie titles: \", len(bad_title_index)\n",
    "print bad_title_index"
   ]
  },
  {
   "cell_type": "code",
   "execution_count": 5,
   "metadata": {
    "collapsed": false
   },
   "outputs": [
    {
     "name": "stdout",
     "output_type": "stream",
     "text": [
      "Dedemin\n",
      "Berlin\n",
      "A??k\n",
      "Hititya Madalyonun\n"
     ]
    }
   ],
   "source": [
    "### examine each words in the misformatted movie titles \n",
    "### remove the words that cause encoding problems\n",
    "for i in bad_title_index:\n",
    "    bad_title = corpus_title[i].split()\n",
    "    for s in bad_title:\n",
    "        try:\n",
    "            m = s.encode('utf-8')\n",
    "        except:\n",
    "            bad_title.remove(s)\n",
    "    \n",
    "    #re-join the words with the problematic words being removed\n",
    "    corpus_title[i] = \" \".join(bad_title)          \n",
    "    print corpus_title[i]     "
   ]
  },
  {
   "cell_type": "markdown",
   "metadata": {},
   "source": [
    "#### Movie Overview\n",
    "When we first explored the number of movie titles with encoding errors, it seems only a moderate amount of movie titles have thie issue. However, when it comes to the movie overview, there is an extensive number of movie overviews which has encoding problems. Thus, it is decided that we cannot simply deleted the movies with error and instead we should only remove the problematic words. In addition, there are a lot of movies missing overviews. The missing overviews are coded as \"Missingval\"."
   ]
  },
  {
   "cell_type": "code",
   "execution_count": 6,
   "metadata": {
    "collapsed": true
   },
   "outputs": [],
   "source": [
    "# extract movie overview\n",
    "corpus_overview = movie_data['overview'].values"
   ]
  },
  {
   "cell_type": "code",
   "execution_count": 7,
   "metadata": {
    "collapsed": false
   },
   "outputs": [
    {
     "name": "stdout",
     "output_type": "stream",
     "text": [
      "The number of misformatted movie overviews:  38\n"
     ]
    }
   ],
   "source": [
    "# obtain the index that causes encoding error\n",
    "bad_ov_index = []\n",
    "for i in range(len(corpus_overview)):\n",
    "    try:\n",
    "        corpus_overview[i].encode('utf-8')\n",
    "    except:\n",
    "        bad_ov_index.append(i)\n",
    "        \n",
    "# check the bad title index\n",
    "print \"The number of misformatted movie overviews: \", len(bad_ov_index)"
   ]
  },
  {
   "cell_type": "code",
   "execution_count": 7,
   "metadata": {
    "collapsed": false
   },
   "outputs": [
    {
     "name": "stdout",
     "output_type": "stream",
     "text": [
      "The number of movies missing overviews:  31\n"
     ]
    }
   ],
   "source": [
    "### find the index of movie titles with nan\n",
    "# replace by \"missingval\", otherwise cause error\n",
    "# because split cannot be applied to \"float\" type\n",
    "\n",
    "null_ov_index = []\n",
    "\n",
    "for i in range(len(corpus_overview)):\n",
    "    if str(corpus_overview[i]) == \"nan\":\n",
    "        null_ov_index.append(i)\n",
    "\n",
    "print \"The number of movies missing overviews: \", len(null_ov_index)\n",
    "# encode nan as missingval\n",
    "# use 'missingval' but not 'missing' because 'missing' can really appear in movie titles\n",
    "corpus_overview[null_ov_index] = 'missingval'"
   ]
  },
  {
   "cell_type": "code",
   "execution_count": 8,
   "metadata": {
    "collapsed": false
   },
   "outputs": [],
   "source": [
    "### examine each words in the misformatted movie titles \n",
    "### remove the words that cause encoding problems\n",
    "# overview data was cleaned 10 times \n",
    "# (cleaning only a few times still cause encoding error)\n",
    "for j in range(10):\n",
    "    bad_ov_unfixed_index =[]\n",
    "    for i in range(len(corpus_overview)):\n",
    "        try:\n",
    "            corpus_overview[i].encode('utf-8')\n",
    "        except:\n",
    "            bad_ov_unfixed_index.append(i)\n",
    "\n",
    "    for k in bad_ov_unfixed_index:\n",
    "        bad_overview = corpus_overview[k].split()\n",
    "        for s in bad_overview:\n",
    "            try:\n",
    "                m = s.encode('utf-8')\n",
    "            except:\n",
    "                bad_overview.remove(s)\n",
    "        #re-join the words with the problematic words being removed\n",
    "        corpus_overview[k] = \" \".join(bad_overview)            "
   ]
  },
  {
   "cell_type": "markdown",
   "metadata": {},
   "source": [
    "### Text analysis using bag-of-words\n",
    "\n",
    "#### Movie titles"
   ]
  },
  {
   "cell_type": "code",
   "execution_count": 9,
   "metadata": {
    "collapsed": false
   },
   "outputs": [],
   "source": [
    "# apply bag-of-words to movie titles\n",
    "# eliminate common stop words\n",
    "vectorizer = CountVectorizer(stop_words='english')\n",
    "title_counts = vectorizer.fit_transform(corpus_title)\n",
    "# convert to array\n",
    "title_counts = title_counts.toarray()\n",
    "\n",
    "# word list for title\n",
    "title_words = vectorizer.get_feature_names()\n",
    "title_words = np.asarray(title_words)\n",
    "\n",
    "# format the counts into a dataframe\n",
    "title_counts_df = pd.DataFrame(title_counts)\n",
    "title_counts_df.columns = title_words"
   ]
  },
  {
   "cell_type": "code",
   "execution_count": 10,
   "metadata": {
    "collapsed": false
   },
   "outputs": [],
   "source": [
    "# count the total occurance of each word\n",
    "word_count = title_counts_df.sum(axis=0)\n",
    "\n",
    "# append the total count for each word at the end\n",
    "title_counts_df = title_counts_df.append(word_count, ignore_index=True)\n",
    "# change the index name to be more informative\n",
    "title_counts_df=title_counts_df.rename(index = {title_counts_df.shape[0]:'sum'})\n",
    "\n",
    "# sort dataframe by the value of the last row\n",
    "new_columns = title_counts_df.columns[title_counts_df.ix[title_counts_df.last_valid_index()].argsort()]\n",
    "title_counts_df = title_counts_df[new_columns]\n",
    "# reverse the columns order\n",
    "title_counts_df = title_counts_df[title_counts_df.columns[::-1]]"
   ]
  },
  {
   "cell_type": "code",
   "execution_count": 11,
   "metadata": {
    "collapsed": false
   },
   "outputs": [
    {
     "data": {
      "text/html": [
       "<div>\n",
       "<table border=\"1\" class=\"dataframe\">\n",
       "  <thead>\n",
       "    <tr style=\"text-align: right;\">\n",
       "      <th></th>\n",
       "      <th>christmas</th>\n",
       "      <th>love</th>\n",
       "      <th>live</th>\n",
       "      <th>story</th>\n",
       "      <th>movie</th>\n",
       "      <th>man</th>\n",
       "      <th>life</th>\n",
       "      <th>dead</th>\n",
       "      <th>night</th>\n",
       "      <th>girl</th>\n",
       "      <th>...</th>\n",
       "      <th>myra</th>\n",
       "      <th>naan</th>\n",
       "      <th>mysteria</th>\n",
       "      <th>mysteries</th>\n",
       "      <th>mysterio</th>\n",
       "      <th>mysterious</th>\n",
       "      <th>myth</th>\n",
       "      <th>mythical</th>\n",
       "      <th>myths</th>\n",
       "      <th>knives</th>\n",
       "    </tr>\n",
       "  </thead>\n",
       "  <tbody>\n",
       "    <tr>\n",
       "      <th>5992</th>\n",
       "      <td>0</td>\n",
       "      <td>0</td>\n",
       "      <td>0</td>\n",
       "      <td>0</td>\n",
       "      <td>0</td>\n",
       "      <td>0</td>\n",
       "      <td>0</td>\n",
       "      <td>0</td>\n",
       "      <td>0</td>\n",
       "      <td>0</td>\n",
       "      <td>...</td>\n",
       "      <td>0</td>\n",
       "      <td>0</td>\n",
       "      <td>0</td>\n",
       "      <td>0</td>\n",
       "      <td>0</td>\n",
       "      <td>0</td>\n",
       "      <td>0</td>\n",
       "      <td>0</td>\n",
       "      <td>0</td>\n",
       "      <td>0</td>\n",
       "    </tr>\n",
       "    <tr>\n",
       "      <th>5993</th>\n",
       "      <td>0</td>\n",
       "      <td>0</td>\n",
       "      <td>0</td>\n",
       "      <td>0</td>\n",
       "      <td>0</td>\n",
       "      <td>0</td>\n",
       "      <td>0</td>\n",
       "      <td>0</td>\n",
       "      <td>0</td>\n",
       "      <td>0</td>\n",
       "      <td>...</td>\n",
       "      <td>0</td>\n",
       "      <td>0</td>\n",
       "      <td>0</td>\n",
       "      <td>0</td>\n",
       "      <td>0</td>\n",
       "      <td>0</td>\n",
       "      <td>0</td>\n",
       "      <td>0</td>\n",
       "      <td>0</td>\n",
       "      <td>0</td>\n",
       "    </tr>\n",
       "    <tr>\n",
       "      <th>5994</th>\n",
       "      <td>0</td>\n",
       "      <td>0</td>\n",
       "      <td>0</td>\n",
       "      <td>0</td>\n",
       "      <td>0</td>\n",
       "      <td>0</td>\n",
       "      <td>0</td>\n",
       "      <td>0</td>\n",
       "      <td>0</td>\n",
       "      <td>0</td>\n",
       "      <td>...</td>\n",
       "      <td>0</td>\n",
       "      <td>0</td>\n",
       "      <td>0</td>\n",
       "      <td>0</td>\n",
       "      <td>0</td>\n",
       "      <td>0</td>\n",
       "      <td>0</td>\n",
       "      <td>0</td>\n",
       "      <td>0</td>\n",
       "      <td>0</td>\n",
       "    </tr>\n",
       "    <tr>\n",
       "      <th>5995</th>\n",
       "      <td>0</td>\n",
       "      <td>0</td>\n",
       "      <td>0</td>\n",
       "      <td>0</td>\n",
       "      <td>0</td>\n",
       "      <td>0</td>\n",
       "      <td>0</td>\n",
       "      <td>0</td>\n",
       "      <td>0</td>\n",
       "      <td>0</td>\n",
       "      <td>...</td>\n",
       "      <td>0</td>\n",
       "      <td>0</td>\n",
       "      <td>0</td>\n",
       "      <td>0</td>\n",
       "      <td>0</td>\n",
       "      <td>0</td>\n",
       "      <td>0</td>\n",
       "      <td>0</td>\n",
       "      <td>0</td>\n",
       "      <td>0</td>\n",
       "    </tr>\n",
       "    <tr>\n",
       "      <th>5996</th>\n",
       "      <td>120</td>\n",
       "      <td>93</td>\n",
       "      <td>71</td>\n",
       "      <td>66</td>\n",
       "      <td>63</td>\n",
       "      <td>55</td>\n",
       "      <td>54</td>\n",
       "      <td>47</td>\n",
       "      <td>47</td>\n",
       "      <td>41</td>\n",
       "      <td>...</td>\n",
       "      <td>1</td>\n",
       "      <td>1</td>\n",
       "      <td>1</td>\n",
       "      <td>1</td>\n",
       "      <td>1</td>\n",
       "      <td>1</td>\n",
       "      <td>1</td>\n",
       "      <td>1</td>\n",
       "      <td>1</td>\n",
       "      <td>1</td>\n",
       "    </tr>\n",
       "  </tbody>\n",
       "</table>\n",
       "<p>5 rows × 6242 columns</p>\n",
       "</div>"
      ],
      "text/plain": [
       "      christmas  love  live  story  movie  man  life  dead  night  girl  \\\n",
       "5992          0     0     0      0      0    0     0     0      0     0   \n",
       "5993          0     0     0      0      0    0     0     0      0     0   \n",
       "5994          0     0     0      0      0    0     0     0      0     0   \n",
       "5995          0     0     0      0      0    0     0     0      0     0   \n",
       "5996        120    93    71     66     63   55    54    47     47    41   \n",
       "\n",
       "       ...    myra  naan  mysteria  mysteries  mysterio  mysterious  myth  \\\n",
       "5992   ...       0     0         0          0         0           0     0   \n",
       "5993   ...       0     0         0          0         0           0     0   \n",
       "5994   ...       0     0         0          0         0           0     0   \n",
       "5995   ...       0     0         0          0         0           0     0   \n",
       "5996   ...       1     1         1          1         1           1     1   \n",
       "\n",
       "      mythical  myths  knives  \n",
       "5992         0      0       0  \n",
       "5993         0      0       0  \n",
       "5994         0      0       0  \n",
       "5995         0      0       0  \n",
       "5996         1      1       1  \n",
       "\n",
       "[5 rows x 6242 columns]"
      ]
     },
     "execution_count": 11,
     "metadata": {},
     "output_type": "execute_result"
    }
   ],
   "source": [
    "# check the dataframe\n",
    "title_counts_df.tail()"
   ]
  },
  {
   "cell_type": "markdown",
   "metadata": {},
   "source": [
    "#### Movie overviews"
   ]
  },
  {
   "cell_type": "code",
   "execution_count": 12,
   "metadata": {
    "collapsed": false
   },
   "outputs": [],
   "source": [
    "# apply bag-of-words \n",
    "overview_counts = vectorizer.fit_transform(corpus_overview)\n",
    "# convert to array\n",
    "overview_counts = overview_counts.toarray()\n",
    "\n",
    "# word list for overview\n",
    "overview_words = vectorizer.get_feature_names()\n",
    "overview_words = np.asarray(overview_words)\n",
    "\n",
    "# convert to dataframe \n",
    "overview_counts_df = pd.DataFrame(overview_counts)\n",
    "overview_counts_df.columns = overview_words"
   ]
  },
  {
   "cell_type": "code",
   "execution_count": 13,
   "metadata": {
    "collapsed": false
   },
   "outputs": [
    {
     "data": {
      "text/plain": [
       "(5997, 25981)"
      ]
     },
     "execution_count": 13,
     "metadata": {},
     "output_type": "execute_result"
    }
   ],
   "source": [
    "# compute the total counts for each word\n",
    "overview_word_count = overview_counts_df.sum(axis=0)\n",
    "# append the count for each word at the end\n",
    "overview_counts_df = overview_counts_df.append(overview_word_count, ignore_index=True)\n",
    "overview_counts_df.shape"
   ]
  },
  {
   "cell_type": "code",
   "execution_count": 14,
   "metadata": {
    "collapsed": false
   },
   "outputs": [
    {
     "data": {
      "text/html": [
       "<div>\n",
       "<table border=\"1\" class=\"dataframe\">\n",
       "  <thead>\n",
       "    <tr style=\"text-align: right;\">\n",
       "      <th></th>\n",
       "      <th>life</th>\n",
       "      <th>new</th>\n",
       "      <th>world</th>\n",
       "      <th>film</th>\n",
       "      <th>story</th>\n",
       "      <th>young</th>\n",
       "      <th>family</th>\n",
       "      <th>man</th>\n",
       "      <th>love</th>\n",
       "      <th>time</th>\n",
       "      <th>...</th>\n",
       "      <th>majesty</th>\n",
       "      <th>mainstay</th>\n",
       "      <th>mainstage</th>\n",
       "      <th>maimed</th>\n",
       "      <th>maime</th>\n",
       "      <th>mails</th>\n",
       "      <th>mailman</th>\n",
       "      <th>mailhouse</th>\n",
       "      <th>mailboxes</th>\n",
       "      <th>kolb</th>\n",
       "    </tr>\n",
       "  </thead>\n",
       "  <tbody>\n",
       "    <tr>\n",
       "      <th>5992</th>\n",
       "      <td>1</td>\n",
       "      <td>0</td>\n",
       "      <td>0</td>\n",
       "      <td>1</td>\n",
       "      <td>0</td>\n",
       "      <td>0</td>\n",
       "      <td>0</td>\n",
       "      <td>0</td>\n",
       "      <td>0</td>\n",
       "      <td>0</td>\n",
       "      <td>...</td>\n",
       "      <td>0</td>\n",
       "      <td>0</td>\n",
       "      <td>0</td>\n",
       "      <td>0</td>\n",
       "      <td>0</td>\n",
       "      <td>0</td>\n",
       "      <td>0</td>\n",
       "      <td>0</td>\n",
       "      <td>0</td>\n",
       "      <td>0</td>\n",
       "    </tr>\n",
       "    <tr>\n",
       "      <th>5993</th>\n",
       "      <td>0</td>\n",
       "      <td>0</td>\n",
       "      <td>0</td>\n",
       "      <td>0</td>\n",
       "      <td>0</td>\n",
       "      <td>0</td>\n",
       "      <td>0</td>\n",
       "      <td>0</td>\n",
       "      <td>0</td>\n",
       "      <td>0</td>\n",
       "      <td>...</td>\n",
       "      <td>0</td>\n",
       "      <td>0</td>\n",
       "      <td>0</td>\n",
       "      <td>0</td>\n",
       "      <td>0</td>\n",
       "      <td>0</td>\n",
       "      <td>0</td>\n",
       "      <td>0</td>\n",
       "      <td>0</td>\n",
       "      <td>0</td>\n",
       "    </tr>\n",
       "    <tr>\n",
       "      <th>5994</th>\n",
       "      <td>0</td>\n",
       "      <td>0</td>\n",
       "      <td>0</td>\n",
       "      <td>0</td>\n",
       "      <td>0</td>\n",
       "      <td>0</td>\n",
       "      <td>0</td>\n",
       "      <td>0</td>\n",
       "      <td>0</td>\n",
       "      <td>0</td>\n",
       "      <td>...</td>\n",
       "      <td>0</td>\n",
       "      <td>0</td>\n",
       "      <td>0</td>\n",
       "      <td>0</td>\n",
       "      <td>0</td>\n",
       "      <td>0</td>\n",
       "      <td>0</td>\n",
       "      <td>0</td>\n",
       "      <td>0</td>\n",
       "      <td>0</td>\n",
       "    </tr>\n",
       "    <tr>\n",
       "      <th>5995</th>\n",
       "      <td>0</td>\n",
       "      <td>0</td>\n",
       "      <td>0</td>\n",
       "      <td>0</td>\n",
       "      <td>0</td>\n",
       "      <td>0</td>\n",
       "      <td>0</td>\n",
       "      <td>0</td>\n",
       "      <td>0</td>\n",
       "      <td>0</td>\n",
       "      <td>...</td>\n",
       "      <td>0</td>\n",
       "      <td>0</td>\n",
       "      <td>0</td>\n",
       "      <td>0</td>\n",
       "      <td>0</td>\n",
       "      <td>0</td>\n",
       "      <td>0</td>\n",
       "      <td>0</td>\n",
       "      <td>0</td>\n",
       "      <td>0</td>\n",
       "    </tr>\n",
       "    <tr>\n",
       "      <th>5996</th>\n",
       "      <td>1179</td>\n",
       "      <td>1002</td>\n",
       "      <td>919</td>\n",
       "      <td>789</td>\n",
       "      <td>784</td>\n",
       "      <td>751</td>\n",
       "      <td>718</td>\n",
       "      <td>613</td>\n",
       "      <td>592</td>\n",
       "      <td>539</td>\n",
       "      <td>...</td>\n",
       "      <td>1</td>\n",
       "      <td>1</td>\n",
       "      <td>1</td>\n",
       "      <td>1</td>\n",
       "      <td>1</td>\n",
       "      <td>1</td>\n",
       "      <td>1</td>\n",
       "      <td>1</td>\n",
       "      <td>1</td>\n",
       "      <td>1</td>\n",
       "    </tr>\n",
       "  </tbody>\n",
       "</table>\n",
       "<p>5 rows × 25981 columns</p>\n",
       "</div>"
      ],
      "text/plain": [
       "      life   new  world  film  story  young  family  man  love  time  ...   \\\n",
       "5992     1     0      0     1      0      0       0    0     0     0  ...    \n",
       "5993     0     0      0     0      0      0       0    0     0     0  ...    \n",
       "5994     0     0      0     0      0      0       0    0     0     0  ...    \n",
       "5995     0     0      0     0      0      0       0    0     0     0  ...    \n",
       "5996  1179  1002    919   789    784    751     718  613   592   539  ...    \n",
       "\n",
       "      majesty  mainstay  mainstage  maimed  maime  mails  mailman  mailhouse  \\\n",
       "5992        0         0          0       0      0      0        0          0   \n",
       "5993        0         0          0       0      0      0        0          0   \n",
       "5994        0         0          0       0      0      0        0          0   \n",
       "5995        0         0          0       0      0      0        0          0   \n",
       "5996        1         1          1       1      1      1        1          1   \n",
       "\n",
       "      mailboxes  kolb  \n",
       "5992          0     0  \n",
       "5993          0     0  \n",
       "5994          0     0  \n",
       "5995          0     0  \n",
       "5996          1     1  \n",
       "\n",
       "[5 rows x 25981 columns]"
      ]
     },
     "execution_count": 14,
     "metadata": {},
     "output_type": "execute_result"
    }
   ],
   "source": [
    "# change the index name to be more informative\n",
    "overview_counts_df=overview_counts_df.rename(index = {overview_counts_df.shape[0]:'sum'})\n",
    "\n",
    "# sort dataframe by the value of the last row\n",
    "ov_new_columns = overview_counts_df.columns[overview_counts_df.ix[overview_counts_df.last_valid_index()].argsort()]\n",
    "overview_counts_df = overview_counts_df[ov_new_columns]\n",
    "# reverse the columns order\n",
    "overview_counts_df = overview_counts_df[overview_counts_df.columns[::-1]]\n",
    "\n",
    "# check the result\n",
    "overview_counts_df.tail()"
   ]
  },
  {
   "cell_type": "markdown",
   "metadata": {
    "collapsed": true
   },
   "source": [
    "### Check the word counts\n",
    "#### Movie titles"
   ]
  },
  {
   "cell_type": "code",
   "execution_count": 22,
   "metadata": {
    "collapsed": false
   },
   "outputs": [
    {
     "data": {
      "text/plain": [
       "[<matplotlib.text.Text at 0x10b1d5f8>,\n",
       " <matplotlib.text.Text at 0x109be080>,\n",
       " <matplotlib.text.Text at 0xcc19e48>]"
      ]
     },
     "execution_count": 22,
     "metadata": {},
     "output_type": "execute_result"
    },
    {
     "data": {
      "image/png": "[encoded data removed]",
      "text/plain": [
       "<matplotlib.figure.Figure at 0x10b05978>"
      ]
     },
     "metadata": {},
     "output_type": "display_data"
    }
   ],
   "source": [
    "ax = sns.distplot(word_count, kde=False, rug=False, hist_kws={\"range\": [1,50]})\n",
    "ax.set(xlabel='Total counts of words', ylabel='Number of words', title = \"Word counts in movie titles\")"
   ]
  },
  {
   "cell_type": "markdown",
   "metadata": {},
   "source": [
    "#### Movie overviews"
   ]
  },
  {
   "cell_type": "code",
   "execution_count": 23,
   "metadata": {
    "collapsed": false
   },
   "outputs": [
    {
     "data": {
      "text/plain": [
       "[<matplotlib.text.Text at 0x10b1d5f8>,\n",
       " <matplotlib.text.Text at 0x109be080>,\n",
       " <matplotlib.text.Text at 0xcc19e48>]"
      ]
     },
     "execution_count": 23,
     "metadata": {},
     "output_type": "execute_result"
    },
    {
     "data": {
      "image/png": "[encoded data removed]",
      "text/plain": [
       "<matplotlib.figure.Figure at 0xd2b4588>"
      ]
     },
     "metadata": {},
     "output_type": "display_data"
    }
   ],
   "source": [
    "sns.distplot(overview_word_count, kde=False, rug=False, hist_kws={\"range\": [1,50]})\n",
    "ax.set(xlabel='Total counts of words', ylabel='Number of words', title = \"Word counts in movie oveviews\")"
   ]
  },
  {
   "cell_type": "markdown",
   "metadata": {},
   "source": [
    "### Apply PCA on the text counts\n",
    "Try to reduce dimensionality using PCA. However, PCA doesn't reduce much of the dimensionality. "
   ]
  },
  {
   "cell_type": "code",
   "execution_count": 24,
   "metadata": {
    "collapsed": false
   },
   "outputs": [
    {
     "name": "stdout",
     "output_type": "stream",
     "text": [
      "Movie title: The number of PCs capturing 90% of the variability:  3102\n"
     ]
    }
   ],
   "source": [
    "pca = PCA()\n",
    "\n",
    "### on movie title\n",
    "title_pca = pca.fit_transform(title_counts_df.iloc[:-1])\n",
    "# find the #PC explain 90% var\n",
    "total_var = np.cumsum(pca.explained_variance_ratio_)\n",
    "n_pc_title = np.where((total_var > 0.9) == True)[0][0]\n",
    "print \"Movie title: The number of PCs capturing 90% of the variability: \", n_pc_title"
   ]
  },
  {
   "cell_type": "code",
   "execution_count": 19,
   "metadata": {
    "collapsed": false
   },
   "outputs": [
    {
     "name": "stdout",
     "output_type": "stream",
     "text": [
      "Movie overviews: The number of PCs capturing 90% of the variability:  2573\n"
     ]
    }
   ],
   "source": [
    "### on movie overview\n",
    "overview_pca = pca.fit_transform(overview_counts_df[:-1])\n",
    "total_var = np.cumsum(pca.explained_variance_ratio_)\n",
    "# find the #PC explain 90% var\n",
    "n_pc_overview = np.where((total_var > 0.9) == True)[0][0]\n",
    "print \"Movie overviews: The number of PCs capturing 90% of the variability: \", n_pc_overview"
   ]
  },
  {
   "cell_type": "markdown",
   "metadata": {},
   "source": [
    "### Prepare the data for fitting the traditional models\n",
    "#### Format and clean the metadata\n",
    "Mean imputation on the missing values of quantitative predictors. One-hot-encoding the categorical variables."
   ]
  },
  {
   "cell_type": "code",
   "execution_count": 25,
   "metadata": {
    "collapsed": false
   },
   "outputs": [
    {
     "name": "stdout",
     "output_type": "stream",
     "text": [
      "popularity\n",
      "Missing proportion:  0.0\n",
      "vote_count\n",
      "Missing proportion:  0.0\n",
      "runtime\n",
      "Missing proportion:  0.165943962642\n",
      "vote_average\n",
      "Missing proportion:  0.0\n"
     ]
    }
   ],
   "source": [
    "##### quantitative predictors\n",
    "\n",
    "quant_cols = [\"popularity\", \"vote_count\" , \"runtime\", \"vote_average\"]\n",
    "\n",
    "### check proportion of missing data\n",
    "for col in quant_cols:\n",
    "    print (col)\n",
    "    print \"Missing proportion: \", np.mean(pd.isnull(movie_data[col]))\n",
    "\n",
    "### read the predictors and convert string into float\n",
    "# convert df to array\n",
    "x_quant = movie_data[quant_cols].values\n",
    "\n",
    "# convert each column to float\n",
    "for i in range(x_quant.shape[1]):\n",
    "    x_quant[:, i] = map(float, x_quant[:, i])\n",
    "\n",
    "### mean imputation on the missing values\n",
    "for i in range(x_quant.shape[1]):\n",
    "    col_mean = np.nanmean(x_quant[:, i])\n",
    "    x_quant[np.isnan(x_quant[:, i]), i] = col_mean"
   ]
  },
  {
   "cell_type": "code",
   "execution_count": 26,
   "metadata": {
    "collapsed": false
   },
   "outputs": [],
   "source": [
    "##### categorical predictors\n",
    "\n",
    "### add release month to the data\n",
    "release_month = list()\n",
    "\n",
    "for i in range(movie_data.shape[0]):\n",
    "    # extract release year\n",
    "    t = movie_data.iloc[i][\"release_date\"]\n",
    "    month = datetime.strptime(t, '%m/%d/%Y').month\n",
    "    release_month.append(month)\n",
    "    \n",
    "# add to the data\n",
    "movie_data[\"release_month\"] = pd.Series(release_month, index = movie_data.index)\n",
    "\n",
    "### one-hot-encode categorial variables\n",
    "cat_cols = [\"director\", \"aspect_ratio\", \"year\", \"release_month\"]"
   ]
  },
  {
   "cell_type": "code",
   "execution_count": 32,
   "metadata": {
    "collapsed": false
   },
   "outputs": [
    {
     "name": "stdout",
     "output_type": "stream",
     "text": [
      "(5996, 4271)\n"
     ]
    },
    {
     "data": {
      "text/plain": [
       "<matplotlib.text.Text at 0x13a73128>"
      ]
     },
     "execution_count": 32,
     "metadata": {},
     "output_type": "execute_result"
    },
    {
     "data": {
      "image/png": "[encoded data removed]",
      "text/plain": [
       "<matplotlib.figure.Figure at 0x10fc0748>"
      ]
     },
     "metadata": {},
     "output_type": "display_data"
    }
   ],
   "source": [
    "# encode directors first\n",
    "x_directors = pd.get_dummies(movie_data[\"director\"])\n",
    "# how many directors in total?\n",
    "print x_directors.shape  \n",
    "# number of movies for each director\n",
    "n_movie_director = x_directors.sum(axis = 0)\n",
    "# check the histogram\n",
    "plt.hist(n_movie_director)\n",
    "plt.title(\"Number of movies directed by the same director\")"
   ]
  },
  {
   "cell_type": "markdown",
   "metadata": {},
   "source": [
    "Cannot use director information as predictor, since most directors have only 1 movie, and there are a large number of directors. "
   ]
  },
  {
   "cell_type": "code",
   "execution_count": 48,
   "metadata": {
    "collapsed": false
   },
   "outputs": [],
   "source": [
    "# encode the other columns except director\n",
    "# convert year and month to strings\n",
    "movie_data[\"year\"] = map(str, movie_data[\"year\"].values)\n",
    "movie_data[\"release_month\"] = map(str, movie_data[\"release_month\"].values)\n",
    "\n",
    "cat_cols = cat_cols[1:len(cat_cols)]\n",
    "x_cat = pd.get_dummies(movie_data[cat_cols], drop_first=True)"
   ]
  },
  {
   "cell_type": "code",
   "execution_count": 49,
   "metadata": {
    "collapsed": false
   },
   "outputs": [],
   "source": [
    "##### combine quant and cat predictors\n",
    "\n",
    "# predictor array with the metadata\n",
    "x_array = np.concatenate((x_quant, x_cat.values), axis = 1)\n",
    "x_array.shape\n",
    "\n",
    "# name of the predictors\n",
    "x_names = np.concatenate((quant_cols, x_cat.columns), axis = 0)"
   ]
  },
  {
   "cell_type": "markdown",
   "metadata": {},
   "source": [
    "#### Combine text data with the metadata\n",
    "Counts of the top words are used for fitting the traditinal models."
   ]
  },
  {
   "cell_type": "code",
   "execution_count": 52,
   "metadata": {
    "collapsed": false
   },
   "outputs": [],
   "source": [
    "# save the first 17 columns of the title (> 30 times)\n",
    "selected_title_counts = title_counts_df.iloc[:-1, :17].values\n",
    "\n",
    "# save the first 66 columns of the overview (> 200 times)\n",
    "selected_overview_counts = overview_counts_df.iloc[:-1, :66].values\n",
    "\n",
    "# combine with x_array  \n",
    "x_array = np.concatenate((x_array, selected_title_counts, selected_overview_counts), axis = 1)\n",
    "\n",
    "### PREPROCESSING: Scale continuous features \n",
    "standardize = Preprocessing.StandardScaler()\n",
    "x_std = standardize.fit_transform(x_array)"
   ]
  },
  {
   "cell_type": "markdown",
   "metadata": {},
   "source": [
    "#### Extract and clean the response variable"
   ]
  },
  {
   "cell_type": "code",
   "execution_count": 5,
   "metadata": {
    "collapsed": false
   },
   "outputs": [],
   "source": [
    "# convert genre ids to list\n",
    "y = list()\n",
    "for i in range(movie_data.shape[0]):\n",
    "    genre = map(int, re.sub(\"[\\[ \\] ]\", \"\", movie_data['genre_ids'][i]).split(','))\n",
    "    y.append(genre)\n",
    "\n",
    "# binarize response variable (returns array)\n",
    "binarizer = MultiLabelBinarizer().fit(y)\n",
    "y_binary = binarizer.transform(y)"
   ]
  },
  {
   "cell_type": "code",
   "execution_count": 11,
   "metadata": {
    "collapsed": false
   },
   "outputs": [],
   "source": [
    "# save the order of the genres in the binarized response for later use\n",
    "pickle.dump(binarizer.classes_, open('data/binarizer_genre_list.p', 'wb'))"
   ]
  },
  {
   "cell_type": "code",
   "execution_count": 57,
   "metadata": {
    "collapsed": true
   },
   "outputs": [],
   "source": [
    "# # save the data for the next step\n",
    "# features_targets_dump = list([x_array, x_std, y_binary])\n",
    "# pickle.dump(features_targets_dump, open('data/cleaned_data_for_traditional_models.p', 'wb'))"
   ]
  }
 ],
 "metadata": {
  "anaconda-cloud": {},
  "kernelspec": {
   "display_name": "Python 2",
   "language": "python",
   "name": "python2"
  },
  "language_info": {
   "codemirror_mode": {
    "name": "ipython",
    "version": 2
   },
   "file_extension": ".py",
   "mimetype": "text/x-python",
   "name": "python",
   "nbconvert_exporter": "python",
   "pygments_lexer": "ipython2",
   "version": "2.7.13"
  }
 },
 "nbformat": 4,
 "nbformat_minor": 0
}
